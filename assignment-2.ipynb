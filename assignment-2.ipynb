{
 "cells": [
  {
   "cell_type": "code",
   "execution_count": 6,
   "id": "fa847ef0-92b9-412b-8c84-212457157ce3",
   "metadata": {},
   "outputs": [
    {
     "name": "stdout",
     "output_type": "stream",
     "text": [
      "even\n",
      "helloo!\n"
     ]
    }
   ],
   "source": [
    "#Explain the importance of Functions\n",
    "# functions are the block of code which perform specific task or operations\n",
    "# 1)code reusability: we can define a function and use it multiple times\n",
    "#ex:\n",
    "def add(x,y):\n",
    "    return x+y\n",
    "add(3,4)\n",
    "add(5,6)\n",
    "add(100,200)\n",
    "#2)organized:functions break program into smaller sections which keeps the code neat and oragnized\n",
    "#ex\n",
    "def calculate_area(radius):\n",
    "    return 3.14*radius**2\n",
    "\n",
    "def calculate_circumference(radius):\n",
    "    return 2*3.14*radius\n",
    "calculate_area(5)\n",
    "calculate_circumference(5)\n",
    "#3)readability:makes the code more readable where in everybody can understand what operations we are performing\n",
    "#ex\n",
    "def add(a,b):\n",
    "    return a+b  # this function clearly shows that we are performing addition\n",
    "def sub(a,b):\n",
    "    return a-b  #this function clearly shows that we are performing substraction \n",
    "add(5,6)\n",
    "sub(7,8)\n",
    "#4)Easy to use: its very easy to use and it is scalable (can be extended by other methods)\n",
    "def even(no):\n",
    "    if no%2==0:\n",
    "        print(\"even\")\n",
    "    else:\n",
    "        print(\"odd\") \n",
    "even(2)           \n",
    "\n",
    "#5)Eliminates Code Duplication :Functions prevent repetitive code, reducing the risk of errors and inconsistencies\n",
    "def hello():\n",
    "    print(\"helloo!\")\n",
    "hello()\n"
   ]
  },
  {
   "cell_type": "code",
   "execution_count": 21,
   "id": "ef04c603",
   "metadata": {},
   "outputs": [
    {
     "name": "stdout",
     "output_type": "stream",
     "text": [
      "hello Sanjay, welcome to the class!\n"
     ]
    }
   ],
   "source": [
    "#2) Write a basic function to greet students\n",
    "def greet_students(stu_name):\n",
    "  print(f\"hello {stu_name}, welcome to the class!\")\n",
    "greet_students(\"Sanjay\")  "
   ]
  },
  {
   "cell_type": "code",
   "execution_count": null,
   "id": "5f7f8aac",
   "metadata": {},
   "outputs": [
    {
     "name": "stdout",
     "output_type": "stream",
     "text": [
      "hello ajay\n"
     ]
    }
   ],
   "source": [
    "#3) What is the difference between print and return statements\n",
    "#return-->it is used to exit the function and then return a value.it return the value when a function is called,can be used multiple times but only one value can be returned at a time.\n",
    "def sum_of_two_no(x,y):\n",
    "    return x+y\n",
    "sum_of_two_no(5,6)\n",
    "#print-->it is a bultin function in python ,it is used to display output or whatever we want to print as an output to the console,it does not return any value,it does not affect the flow of the program ,we can have multiple print statements.\n",
    "def hello(name):\n",
    "    print(\"hello\",name)\n",
    "hello(\"ajay\")   \n"
   ]
  },
  {
   "cell_type": "code",
   "execution_count": 6,
   "id": "4a0f4845",
   "metadata": {},
   "outputs": [
    {
     "name": "stdout",
     "output_type": "stream",
     "text": [
      "1\n",
      "2\n",
      "8.5\n",
      "99\n",
      "100\n",
      "77.6\n",
      "hello\n"
     ]
    },
    {
     "data": {
      "text/plain": [
       "{'a': 2, 'b': 3, 'c': 6, 'd': [1, 2, 3], 'e': [6, 7, 8]}"
      ]
     },
     "execution_count": 6,
     "metadata": {},
     "output_type": "execute_result"
    }
   ],
   "source": [
    "#4) What are *args and **kwargs\n",
    "#*args and **kwargs are variable length arguments passed in a function\n",
    "#1)*args: *args allows you to pass a variable number of  arguments to a function.Inside that function, args will be a tuple containing all the arguments\n",
    "def no(*args):\n",
    "    for arg in args:\n",
    "        print(arg)\n",
    "no(1,2,8.5,99,100,77.6,\"hello\")\n",
    "#2)**kwargs : **kwargs allows you to pass a variable number of keyword arguments to a function.Inside that function, kwargs will be a dictionary containing all the keyword arguments.\n",
    "def fun(**kwargs):\n",
    "    return kwargs\n",
    "fun(a=2,b=3,c=6,d=[1,2,3],e=[6,7,8])\n",
    "\n",
    "\n",
    "\n"
   ]
  },
  {
   "cell_type": "code",
   "execution_count": 16,
   "id": "8ac123fa",
   "metadata": {},
   "outputs": [
    {
     "name": "stdout",
     "output_type": "stream",
     "text": [
      "1.9\n",
      "10\n",
      "99\n",
      "100\n",
      "yo\n",
      "-9\n"
     ]
    }
   ],
   "source": [
    "#5) Explain the iterator function\n",
    "# iterator is an object ,that is used to iterate over the iterable objects\n",
    "# iterator: to iterate ,the iterable is converted into iterator\n",
    "# iterable:object that can be iterated\n",
    "lis=[1.9,10,99,100,'yo',-9]\n",
    "a=iter(lis)\n",
    "print(next(a))\n",
    "print(next(a))\n",
    "print(next(a))\n",
    "print(next(a))\n",
    "print(next(a))\n",
    "print(next(a))"
   ]
  },
  {
   "cell_type": "code",
   "execution_count": 25,
   "id": "5788e240",
   "metadata": {},
   "outputs": [
    {
     "name": "stdout",
     "output_type": "stream",
     "text": [
      "0\n",
      "1\n",
      "4\n",
      "9\n",
      "16\n",
      "25\n",
      "36\n",
      "49\n",
      "64\n",
      "81\n"
     ]
    },
    {
     "ename": "StopIteration",
     "evalue": "",
     "output_type": "error",
     "traceback": [
      "\u001b[1;31m---------------------------------------------------------------------------\u001b[0m",
      "\u001b[1;31mStopIteration\u001b[0m                             Traceback (most recent call last)",
      "Cell \u001b[1;32mIn[25], line 16\u001b[0m\n\u001b[0;32m     14\u001b[0m \u001b[38;5;28mprint\u001b[39m(\u001b[38;5;28mnext\u001b[39m(gen)) \n\u001b[0;32m     15\u001b[0m \u001b[38;5;28mprint\u001b[39m(\u001b[38;5;28mnext\u001b[39m(gen)) \n\u001b[1;32m---> 16\u001b[0m \u001b[38;5;28mprint\u001b[39m(\u001b[38;5;28;43mnext\u001b[39;49m\u001b[43m(\u001b[49m\u001b[43mgen\u001b[49m\u001b[43m)\u001b[49m) \n",
      "\u001b[1;31mStopIteration\u001b[0m: "
     ]
    }
   ],
   "source": [
    "#6) Write a code that generates the squares of numbers from 1 to n using a generator\n",
    "def sq_gen(n):\n",
    "    for i in range(n):\n",
    "        yield i**2\n",
    "gen=sq_gen(10) \n",
    "print(next(gen))\n",
    "print(next(gen))   \n",
    "print(next(gen)) \n",
    "print(next(gen)) \n",
    "print(next(gen)) \n",
    "print(next(gen)) \n",
    "print(next(gen)) \n",
    "print(next(gen)) \n",
    "print(next(gen)) \n",
    "print(next(gen)) \n",
    "print(next(gen)) "
   ]
  },
  {
   "cell_type": "code",
   "execution_count": 40,
   "id": "f9e30ab9",
   "metadata": {},
   "outputs": [
    {
     "name": "stdout",
     "output_type": "stream",
     "text": [
      "0\n",
      "1\n",
      "2\n",
      "3\n",
      "4\n",
      "5\n",
      "6\n",
      "7\n",
      "8\n",
      "9\n",
      "11\n",
      "22\n",
      "33\n",
      "44\n",
      "55\n",
      "66\n",
      "77\n",
      "88\n",
      "99\n"
     ]
    },
    {
     "ename": "StopIteration",
     "evalue": "",
     "output_type": "error",
     "traceback": [
      "\u001b[1;31m---------------------------------------------------------------------------\u001b[0m",
      "\u001b[1;31mStopIteration\u001b[0m                             Traceback (most recent call last)",
      "Cell \u001b[1;32mIn[40], line 26\u001b[0m\n\u001b[0;32m     24\u001b[0m \u001b[38;5;28mprint\u001b[39m(\u001b[38;5;28mnext\u001b[39m(gens))\n\u001b[0;32m     25\u001b[0m \u001b[38;5;28mprint\u001b[39m(\u001b[38;5;28mnext\u001b[39m(gens))\n\u001b[1;32m---> 26\u001b[0m \u001b[38;5;28mprint\u001b[39m(\u001b[38;5;28;43mnext\u001b[39;49m\u001b[43m(\u001b[49m\u001b[43mgens\u001b[49m\u001b[43m)\u001b[49m)\n",
      "\u001b[1;31mStopIteration\u001b[0m: "
     ]
    }
   ],
   "source": [
    "#7) Write a code that generates palindromic numbers up to n using a generator\n",
    "def pal_gen(n):\n",
    "    for i in range(n):\n",
    "        if str(i) == str(i)[::-1]: # Check if the number is a palindrome yield i\n",
    "            yield i\n",
    "gens=pal_gen(100)   \n",
    "print(next(gens))\n",
    "print(next(gens))\n",
    "print(next(gens))\n",
    "print(next(gens))\n",
    "print(next(gens))\n",
    "print(next(gens))\n",
    "print(next(gens))\n",
    "print(next(gens))\n",
    "print(next(gens))\n",
    "print(next(gens))\n",
    "print(next(gens))\n",
    "print(next(gens))\n",
    "print(next(gens))\n",
    "print(next(gens))\n",
    "print(next(gens))\n",
    "print(next(gens))\n",
    "print(next(gens))\n",
    "print(next(gens))\n",
    "print(next(gens))\n",
    "print(next(gens))\n",
    "\n",
    "\n",
    "\n",
    "\n",
    "    \n"
   ]
  },
  {
   "cell_type": "code",
   "execution_count": 34,
   "id": "04af5eef",
   "metadata": {},
   "outputs": [
    {
     "name": "stdout",
     "output_type": "stream",
     "text": [
      "2\n",
      "4\n",
      "6\n",
      "8\n"
     ]
    },
    {
     "ename": "StopIteration",
     "evalue": "",
     "output_type": "error",
     "traceback": [
      "\u001b[1;31m---------------------------------------------------------------------------\u001b[0m",
      "\u001b[1;31mStopIteration\u001b[0m                             Traceback (most recent call last)",
      "Cell \u001b[1;32mIn[34], line 11\u001b[0m\n\u001b[0;32m      9\u001b[0m \u001b[38;5;28mprint\u001b[39m(\u001b[38;5;28mnext\u001b[39m(even_gen))\n\u001b[0;32m     10\u001b[0m \u001b[38;5;28mprint\u001b[39m(\u001b[38;5;28mnext\u001b[39m(even_gen))\n\u001b[1;32m---> 11\u001b[0m \u001b[38;5;28mprint\u001b[39m(\u001b[38;5;28;43mnext\u001b[39;49m\u001b[43m(\u001b[49m\u001b[43meven_gen\u001b[49m\u001b[43m)\u001b[49m)\n\u001b[0;32m     12\u001b[0m \u001b[38;5;28mprint\u001b[39m(\u001b[38;5;28mnext\u001b[39m(even_gen))\n",
      "\u001b[1;31mStopIteration\u001b[0m: "
     ]
    }
   ],
   "source": [
    "#8) Write a code that generates even numbers from 2 to n using a generator\n",
    "def even(n):\n",
    "    for i in range(2,n):\n",
    "        if i%2==0:\n",
    "            yield i\n",
    "even_gen=even(10)  \n",
    "print(next(even_gen))\n",
    "print(next(even_gen))\n",
    "print(next(even_gen))\n",
    "print(next(even_gen))\n",
    "print(next(even_gen))\n",
    "print(next(even_gen))\n",
    "\n",
    "\n",
    "\n",
    "\n"
   ]
  },
  {
   "cell_type": "code",
   "execution_count": 16,
   "id": "c76bbab2",
   "metadata": {},
   "outputs": [
    {
     "name": "stdout",
     "output_type": "stream",
     "text": [
      "4\n",
      "8\n",
      "16\n",
      "32\n",
      "64\n",
      "128\n",
      "256\n",
      "512\n"
     ]
    },
    {
     "ename": "StopIteration",
     "evalue": "",
     "output_type": "error",
     "traceback": [
      "\u001b[1;31m---------------------------------------------------------------------------\u001b[0m",
      "\u001b[1;31mStopIteration\u001b[0m                             Traceback (most recent call last)",
      "Cell \u001b[1;32mIn[16], line 14\u001b[0m\n\u001b[0;32m     12\u001b[0m \u001b[38;5;28mprint\u001b[39m(\u001b[38;5;28mnext\u001b[39m(pow_gen))\n\u001b[0;32m     13\u001b[0m \u001b[38;5;28mprint\u001b[39m(\u001b[38;5;28mnext\u001b[39m(pow_gen))\n\u001b[1;32m---> 14\u001b[0m \u001b[38;5;28mprint\u001b[39m(\u001b[38;5;28;43mnext\u001b[39;49m\u001b[43m(\u001b[49m\u001b[43mpow_gen\u001b[49m\u001b[43m)\u001b[49m)\n\u001b[0;32m     15\u001b[0m \u001b[38;5;28mprint\u001b[39m(\u001b[38;5;28mnext\u001b[39m(pow_gen))\n",
      "\u001b[1;31mStopIteration\u001b[0m: "
     ]
    }
   ],
   "source": [
    "#9)Write a code that generates powers of two up to n using a generator\n",
    "def pow(n):\n",
    "    for i in range(2,n):\n",
    "        yield 2 ** i\n",
    "pow_gen=pow(10)  \n",
    "print(next(pow_gen))\n",
    "print(next(pow_gen))\n",
    "print(next(pow_gen))\n",
    "print(next(pow_gen))\n",
    "print(next(pow_gen))\n",
    "print(next(pow_gen))\n",
    "print(next(pow_gen))\n",
    "print(next(pow_gen))\n",
    "print(next(pow_gen))\n",
    "print(next(pow_gen))\n",
    "        "
   ]
  },
  {
   "cell_type": "code",
   "execution_count": 33,
   "id": "b0b778ff",
   "metadata": {},
   "outputs": [
    {
     "name": "stdout",
     "output_type": "stream",
     "text": [
      "2\n",
      "3\n",
      "5\n",
      "7\n",
      "11\n",
      "13\n",
      "17\n",
      "19\n"
     ]
    }
   ],
   "source": [
    "#10)Write a code that generates prime numbers up to n using a generator\n",
    "def prime_generator(n):\n",
    "    for num in range(2,n+1):\n",
    "        for i in range(2, num):\n",
    "            if num % i == 0:\n",
    "                break\n",
    "        else:\n",
    "            yield num\n",
    "pr=prime_generator(20)\n",
    "print(next(pr))  \n",
    "print(next(pr))  \n",
    "print(next(pr))  \n",
    "print(next(pr)) \n",
    "print(next(pr))  \n",
    "print(next(pr)) \n",
    "print(next(pr))  \n",
    "print(next(pr)) \n",
    "\n"
   ]
  },
  {
   "cell_type": "code",
   "execution_count": 35,
   "id": "226457d5",
   "metadata": {},
   "outputs": [
    {
     "data": {
      "text/plain": [
       "11"
      ]
     },
     "execution_count": 35,
     "metadata": {},
     "output_type": "execute_result"
    }
   ],
   "source": [
    "#11) Write a code that uses a lambda function to calculate the sum of two numbers\n",
    "sum_of_two_no=lambda x,y:x+y\n",
    "sum_of_two_no(5,6)"
   ]
  },
  {
   "cell_type": "code",
   "execution_count": 36,
   "id": "95ec1e39",
   "metadata": {},
   "outputs": [
    {
     "data": {
      "text/plain": [
       "16"
      ]
     },
     "execution_count": 36,
     "metadata": {},
     "output_type": "execute_result"
    }
   ],
   "source": [
    "#12) Write a code that uses a lambda function to calculate the square of a given number\n",
    "square=lambda n:n**2\n",
    "square(4)"
   ]
  },
  {
   "cell_type": "code",
   "execution_count": 43,
   "id": "313ff931",
   "metadata": {},
   "outputs": [
    {
     "name": "stdout",
     "output_type": "stream",
     "text": [
      "even\n",
      "odd\n"
     ]
    }
   ],
   "source": [
    "#13)  Write a code that uses a lambda function to check whether a given number is even or odd\n",
    "even_odd=lambda x:print(\"even\") if x%2==0 else print(\"odd\")\n",
    "even_odd(2)\n",
    "even_odd(9)"
   ]
  },
  {
   "cell_type": "code",
   "execution_count": 46,
   "id": "441a3459",
   "metadata": {},
   "outputs": [
    {
     "data": {
      "text/plain": [
       "'helloworld'"
      ]
     },
     "execution_count": 46,
     "metadata": {},
     "output_type": "execute_result"
    }
   ],
   "source": [
    "#14)  Write a code that uses a lambda function to concatenate two strings\n",
    "concat=lambda x,y:x+y\n",
    "concat(\"hello\",\"world\")\n"
   ]
  },
  {
   "cell_type": "code",
   "execution_count": 1,
   "id": "8803eeb7",
   "metadata": {},
   "outputs": [
    {
     "name": "stdout",
     "output_type": "stream",
     "text": [
      "25\n"
     ]
    }
   ],
   "source": [
    "#15)  Write a code that uses a lambda function to find the maximum of three given numbers\n",
    "max_of_3=lambda a,b,c:max(a,b,c)\n",
    "result=max_of_3(10,15,25)\n",
    "print(result)\n"
   ]
  },
  {
   "cell_type": "code",
   "execution_count": null,
   "id": "cbe2bacf",
   "metadata": {},
   "outputs": [
    {
     "name": "stdout",
     "output_type": "stream",
     "text": [
      "[4, 16, 36, 64, 100]\n",
      "[4, 16, 36, 64, 100]\n"
     ]
    }
   ],
   "source": [
    "#16)  Write a code that generates the squares of even numbers from a given list\n",
    "\n",
    "\n",
    "def square_of_evens(num):\n",
    "    return [x**2 for x in num if x%2==0]\n",
    "lis=[1,2,3,4,5,6,7,8,9,10]\n",
    "squares=square_of_evens(lis)\n",
    "print(squares)\n",
    "#[or]\n",
    "input_list=[1, 2, 3, 4, 5, 6, 7, 8, 9, 10]\n",
    "even_numbers=filter(lambda x: x%2==0,input_list)\n",
    "squares_of_evens = list(map(lambda x:x**2,even_numbers))\n",
    "print(squares_of_evens)\n",
    "\n",
    "\n",
    "\n"
   ]
  },
  {
   "cell_type": "code",
   "execution_count": null,
   "id": "b2c0e1ab",
   "metadata": {},
   "outputs": [
    {
     "name": "stdout",
     "output_type": "stream",
     "text": [
      "72\n"
     ]
    }
   ],
   "source": [
    "#17) Write  code that calculates the product of positive numbers from a given list\n",
    "from functools import reduce\n",
    "def product_of_positives(numbers):\n",
    "    return reduce(lambda x,y: x*y,(num for num in numbers if num>0),1)\n",
    "input_list=[1,-2,3,0,4,-5,6]\n",
    "print(product_of_positives(input_list))\n",
    "\n"
   ]
  },
  {
   "cell_type": "code",
   "execution_count": 5,
   "id": "b4746380",
   "metadata": {},
   "outputs": [
    {
     "name": "stdout",
     "output_type": "stream",
     "text": [
      "[2, 6, 10, 14, 18]\n"
     ]
    }
   ],
   "source": [
    "#18)  Write a code that doubles the values of odd numbers from a given list\n",
    "def odd(num):\n",
    "     return [x*2 for x in num if x%2!=0]\n",
    "input_list=[1,2,3,4,5,6,7,8,9,10]\n",
    "doubles=odd(input_list)\n",
    "print(doubles)\n",
    "    "
   ]
  },
  {
   "cell_type": "code",
   "execution_count": null,
   "id": "95fc0204",
   "metadata": {},
   "outputs": [
    {
     "name": "stdout",
     "output_type": "stream",
     "text": [
      "1296\n"
     ]
    }
   ],
   "source": [
    "#19) Write a code that calculates the sum of cubes of numbers from a given list\n",
    "def sum_of_cubes(numbers):\n",
    "    return sum(x**3 for x in numbers)\n",
    "input_list=[1,2,3,4,5,6,7,8]\n",
    "result=sum_of_cubes(input_list)\n",
    "print(result)\n"
   ]
  },
  {
   "cell_type": "code",
   "execution_count": null,
   "id": "3b76c023",
   "metadata": {},
   "outputs": [],
   "source": [
    "#20) Write a code that filters out prime numbers from a given list\n",
    "           "
   ]
  },
  {
   "cell_type": "code",
   "execution_count": null,
   "id": "d8dc1aa2",
   "metadata": {},
   "outputs": [
    {
     "name": "stdout",
     "output_type": "stream",
     "text": [
      "Anil\n",
      "30\n",
      "35\n"
     ]
    }
   ],
   "source": [
    "#21)  What is encapsulation in OOP?\n",
    "# Encapsulation is one of the fundamental principles of Object-Oriented Programming (OOP). It involves bundling the data (attributes) and the methods (functions) that operate on the data into a single unit (class). Encapsulation also restricts direct access to some of an object's components, which means that the internal representation of an object is hidden from the outside.\n",
    "\n",
    "class Person:\n",
    "    def __init__(self, name, age):\n",
    "        self.name=name             # Public \n",
    "        self.__age=age             # Private \n",
    "\n",
    "    def get_age(self):\n",
    "        return self.__age            # Get age for the private attribute\n",
    "\n",
    "    def set_age(self, age):\n",
    "        if 0< age<100:\n",
    "            self.__age=age         # Set age for the private attribute\n",
    "        else:\n",
    "            print(\"Invalid age\")\n",
    "person=Person(\"Anil\", 30)\n",
    "print(person.name)                \n",
    "print(person.get_age())            \n",
    "\n",
    "person.set_age(35)                  \n",
    "print(person.get_age())             \n",
    "\n",
    "\n"
   ]
  },
  {
   "cell_type": "code",
   "execution_count": null,
   "id": "4839f985",
   "metadata": {},
   "outputs": [
    {
     "name": "stdout",
     "output_type": "stream",
     "text": [
      "sri\n",
      "Data Anlytics\n",
      "Ani\n",
      "name: Ani\n",
      "course: Data Science\n",
      "None\n",
      "Data Science\n",
      "ram\n",
      "web development\n"
     ]
    }
   ],
   "source": [
    "#22) Explain the use of access modifiers in Python classes\n",
    "#access modifiers are used to control the accessibility of class members (attributes and methods).\n",
    "#1)public access modifer:Attributes and methods that can be accessed from anywhere—inside and outside the class.\n",
    "class Student:\n",
    "    def __init__(self,name,course):\n",
    "        self.name=name #public attribute\n",
    "        self.course=course #public attribute\n",
    "stud=Student(\"sri\",\"Data Anlytics\")\n",
    "print(stud.name)\n",
    "print(stud.course)\n",
    "#2)private access modifier:Definition: Attributes and methods that cannot be accessed directly outside the class. \n",
    "#(__)underscore is used to define private attribute\n",
    "class Student:\n",
    "    def __init__(self,name,course):\n",
    "        self.name=name\n",
    "        self.__course=course #private attribute\n",
    "    def show(self):\n",
    "        print(\"name:\",self.name)\n",
    "        print(\"course:\",self.__course)\n",
    "\n",
    "stud=Student(\"Ani\",\"Data Science\")\n",
    "print(stud.name)\n",
    "print(stud.show())\n",
    "print(stud._Student__course )#can be accessed using classname\n",
    "#3)protected access modifier:Attributes and methods that should not be accessed directly outside the class, but can be accessed in subclasses.\n",
    "#(_)underscore is used to define protected attribute\n",
    "class Student:\n",
    "    def __init__(self,name,course):\n",
    "        self.name=name\n",
    "        self._course=course #protected attribute\n",
    "def __init__(self,course):\n",
    "    Student.__init__(self)\n",
    "stud=Student(\"ram\",\"web development\")    \n",
    "print(stud.name )\n",
    "print(stud._course )  \n",
    "\n",
    "\n",
    "\n",
    "\n",
    "\n"
   ]
  },
  {
   "cell_type": "code",
   "execution_count": null,
   "id": "49bdddda",
   "metadata": {},
   "outputs": [
    {
     "name": "stdout",
     "output_type": "stream",
     "text": [
      "inside the parent class\n",
      "inside the child class\n",
      "inside the parent class\n"
     ]
    }
   ],
   "source": [
    "#23)  What is inheritance in OOP\n",
    "#Inheritance is a core concept in object-oriented programming (OOP) that allows a class (child or subclass) to inherit properties and behaviors (methods) from another class (parent or superclass). \n",
    "class Parent:\n",
    "    def property(self):\n",
    "        print(\"inside the parent class\")\n",
    "class Child(Parent):\n",
    "    def prop(self):\n",
    "        print(\"inside the child class\")    \n",
    "parent=Parent()\n",
    "parent.property()\n",
    "#child object can access both parent and its own properties and behaviour   \n",
    "child=Child()\n",
    "child.prop()\n",
    "child.property()\n",
    "\n",
    "\n"
   ]
  },
  {
   "cell_type": "code",
   "execution_count": 32,
   "id": "106e1aaa",
   "metadata": {},
   "outputs": [
    {
     "name": "stdout",
     "output_type": "stream",
     "text": [
      "5\n",
      "9\n",
      "Meowwww\n"
     ]
    }
   ],
   "source": [
    "#24)  Define polymorphism in OOP\n",
    "#Polymorphism in OOP means \"many forms\", It allows the same function or method to work differently based on the object calling it.\n",
    "#it can be achieved using two methods:\n",
    "#1)method overloading:\n",
    "class Calculator:\n",
    "    def add(self,a,b,c=0):\n",
    "        return a+b+c\n",
    "\n",
    "calc=Calculator()\n",
    "print(calc.add(2,3))       \n",
    "print(calc.add(2,3,4))    \n",
    "\n",
    "\n",
    "#2)method overriding:\n",
    "class Animal:\n",
    "    def sound(self):\n",
    "        print(\"animals sounds\")\n",
    "class Cat(Animal):\n",
    "    def sound(self):\n",
    "        print(\"Meowwww\")   \n",
    "cat=Cat()\n",
    "cat.sound()            \n",
    "\n",
    "\n"
   ]
  },
  {
   "cell_type": "code",
   "execution_count": null,
   "id": "383c81e1",
   "metadata": {},
   "outputs": [
    {
     "name": "stdout",
     "output_type": "stream",
     "text": [
      "Meowwww\n"
     ]
    }
   ],
   "source": [
    "#25)   Explain method overriding in Python\n",
    "#Method overriding in Python is when a child class provides a specific implementation of a method that is already defined in its parent class. The method in the child class has the same name and parameters as the one in the parent class, and it replaces the parent's method when called on an object of the child class.\n",
    "class Animal:\n",
    "    def sound(self):\n",
    "        print(\"animals sounds\")\n",
    "class Cat(Animal):\n",
    "    def sound(self):\n",
    "        print(\"Meowwww\")   \n",
    "cat=Cat()\n",
    "cat.sound()   #here child class overrides the parent class so meoww gets printed"
   ]
  },
  {
   "cell_type": "code",
   "execution_count": null,
   "id": "e8dfbd33",
   "metadata": {},
   "outputs": [
    {
     "name": "stdout",
     "output_type": "stream",
     "text": [
      "Generic animal sound\n",
      "Woof!\n"
     ]
    }
   ],
   "source": [
    "#26) Define a parent class Animal with a method make_sound that prints \"Generic animal sound\". Create a child class Dog inheriting from Animal with a method make_sound that prints \"Woof!\"\n",
    "class Animal:\n",
    "    def make_sound(self):\n",
    "        print(\"Generic animal sound\")\n",
    "class Dog(Animal):\n",
    "    def make_sound(self):\n",
    "        print(\"Woof!\")\n",
    "generic_animal=Animal()\n",
    "generic_animal.make_sound()\n",
    "my_dog=Dog()\n",
    "my_dog.make_sound()          \n"
   ]
  },
  {
   "cell_type": "code",
   "execution_count": null,
   "id": "9936f771",
   "metadata": {},
   "outputs": [
    {
     "name": "stdout",
     "output_type": "stream",
     "text": [
      "Animal moves\n",
      "Dog runs\n"
     ]
    }
   ],
   "source": [
    "#27) Define a method move in the Animal class that prints \"Animal moves\". Override the move method in the Dog class to print \"Dog runs\"\n",
    "class Animal:\n",
    "    def move(self):\n",
    "        print(\"Animal moves\")\n",
    "class Dog(Animal):\n",
    "    def move(self):\n",
    "        print(\"Dog runs\")\n",
    "generic_animal=Animal()\n",
    "generic_animal.move() \n",
    "my_dog=Dog()\n",
    "my_dog.move()          \n"
   ]
  },
  {
   "cell_type": "code",
   "execution_count": null,
   "id": "b75ea4a7",
   "metadata": {},
   "outputs": [
    {
     "name": "stdout",
     "output_type": "stream",
     "text": [
      "Barking!\n",
      "Giving birth to live young.\n"
     ]
    }
   ],
   "source": [
    "#28) Create a class Mammal with a method reproduce that prints \"Giving birth to live young.\" Create a class DogMammal inheriting from both Dog and Mammal\n",
    "class Mammal:\n",
    "    def reproduce(self):\n",
    "        print(\"Giving birth to live young.\")\n",
    "class Dog:\n",
    "    def bark(self):\n",
    "        print(\"Barking!\")\n",
    "class DogMammal(Dog, Mammal):\n",
    "    pass\n",
    "dog_mammal=DogMammal()\n",
    "dog_mammal.bark()        \n",
    "dog_mammal.reproduce()   "
   ]
  },
  {
   "cell_type": "code",
   "execution_count": null,
   "id": "28816603",
   "metadata": {},
   "outputs": [
    {
     "name": "stdout",
     "output_type": "stream",
     "text": [
      "Some generic dog sound\n",
      "Bark!\n"
     ]
    }
   ],
   "source": [
    "#29) Create a class GermanShepherd inheriting from Dog and override the make_sound method to print \"Bark!\"\n",
    "class Dog:\n",
    "    def make_sound(self):\n",
    "        print(\"Some generic dog sound\")\n",
    "class GermanShepherd(Dog):\n",
    "    def make_sound(self): \n",
    "        print(\"Bark!\")\n",
    "dog=Dog()\n",
    "german_shepherd=GermanShepherd()\n",
    "dog.make_sound()            \n",
    "german_shepherd.make_sound()  #override "
   ]
  },
  {
   "cell_type": "code",
   "execution_count": null,
   "id": "23f7d084",
   "metadata": {},
   "outputs": [
    {
     "name": "stdout",
     "output_type": "stream",
     "text": [
      "area of rectangle: 8\n",
      "perimeter of a triangle 31.400000000000002\n",
      "area of circle: 113.03999999999999\n"
     ]
    }
   ],
   "source": [
    "# What is abstraction in Python? How is it implemented\n",
    "#Abstraction in Object-Oriented Programming (OOP) is the concept of hiding the complex implementation details and showing only the essential features of an object\n",
    "#abstraction can be implemented using abstract classes and abstract methods. The abc module (Abstract Base Classes) is used to achieve abstraction.\n",
    "import abc\n",
    "class Shape:\n",
    "    @abc.abstractmethod\n",
    "    def area(self):\n",
    "        pass\n",
    "    @abc.abstractmethod \n",
    "    def perimeter(self):\n",
    "        pass\n",
    "class Rectangle(Shape):\n",
    "    def area(self,area,length,breadth):\n",
    "        area = length * breadth \n",
    "        print( \"area of rectangle:\",area)\n",
    "class Circle(Shape):\n",
    "    def area(self,area ,radius ):\n",
    "        area=3.14*radius*radius\n",
    "        print (\"area of circle:\",area)\n",
    "class Triangle(Shape):\n",
    "    def perimeter(self,perimeter,radius):\n",
    "        perimeter= 2 * 3.14 * radius\n",
    "        print(\"perimeter of a triangle\",perimeter)\n",
    "rec=Rectangle()\n",
    "tri=Triangle()\n",
    "cir=Circle()  \n",
    "rec.area(0,2,4)  \n",
    "tri.perimeter(0,5)\n",
    "cir.area(0,6)\n",
    "    \n"
   ]
  },
  {
   "cell_type": "code",
   "execution_count": 2,
   "id": "a8bffa1c",
   "metadata": {},
   "outputs": [
    {
     "name": "stdout",
     "output_type": "stream",
     "text": [
      "Car drives on the road\n",
      "Bicycle pedals on the path\n"
     ]
    }
   ],
   "source": [
    "#31) Explain the importance of abstraction in object-oriented programming\n",
    "# Abstraction is important because it simplifies complex systems,enhances code reusability,supports scalability,and provide encapsulation and security.\n",
    "#Abstraction is like using a TV remote: you press buttons to change channels and adjust volume without needing to know how the electronics inside the TV work. In programming, abstraction means showing only the important details and hiding the complex parts.\n",
    "import abc\n",
    "class Vehicle:\n",
    "    @abc.abstractmethod\n",
    "    def move(self):\n",
    "        pass\n",
    "class Car(Vehicle):\n",
    "    def move(self):\n",
    "        return \"Car drives on the road\"\n",
    "class Bicycle(Vehicle):\n",
    "    def move(self):\n",
    "        return \"Bicycle pedals on the path\"\n",
    "my_car=Car()\n",
    "my_bicycle=Bicycle()\n",
    "print(my_car.move())      \n",
    "print(my_bicycle.move())   \n"
   ]
  },
  {
   "cell_type": "code",
   "execution_count": 5,
   "id": "4540a0f4",
   "metadata": {},
   "outputs": [
    {
     "name": "stdout",
     "output_type": "stream",
     "text": [
      "Woof!\n",
      "Meow!\n"
     ]
    }
   ],
   "source": [
    "#32) How are abstract methods different from regular methods in Python\n",
    "#Regular method:Regular methods are defined in a regular class and have an implementation. They can be used directly by creating an instance of the class.\n",
    "class Animal:\n",
    "    def make_sound(self):\n",
    "        return \"Generic animal sound\"\n",
    "class Dog(Animal):\n",
    "    def make_sound(self):\n",
    "        return \"Woof!\"\n",
    "dog=Dog() \n",
    "dog.make_sound()   \n",
    "#Abstract Method: A method declared in an abstract class but lacks implementation. It is marked using the @abstractmethod decorator from the abc module. Subclasses must implement abstract methods\n",
    "import abc\n",
    "\n",
    "class Animal():\n",
    "    @abc.abstractmethod\n",
    "    def make_sound(self):\n",
    "        pass\n",
    "class Dog(Animal):\n",
    "    def make_sound(self):\n",
    "        return \"Woof!\"\n",
    "class Cat(Animal):\n",
    "    def make_sound(self):\n",
    "        return \"Meow!\"\n",
    "dog=Dog()\n",
    "cat=Cat()\n",
    "print(dog.make_sound())  \n",
    "print(cat.make_sound())  \n"
   ]
  },
  {
   "cell_type": "code",
   "execution_count": null,
   "id": "c3db6e07",
   "metadata": {},
   "outputs": [],
   "source": [
    "#33) How can you achieve abstraction using interfaces in Python\n",
    "# Define an Interface:An interface is an abstract class with only abstract methods (abstract properties).first import abc then Use the @abc.abstractmethod decorator for methods.\n",
    "#Implement the Interface:Classes that inherit from the interface must implement all its abstract methods.If they don't,the subclass remains abstract and cannot be instantiated.\n",
    "import abc\n",
    "class Vehicle:\n",
    "    @abc.abstractmethod\n",
    "    def move(self):\n",
    "        pass\n",
    "class Car(Vehicle):\n",
    "    def move(self):\n",
    "        return \"Car drives on the road\"\n",
    "class Bicycle(Vehicle):\n",
    "    def move(self):\n",
    "        return \"Bicycle pedals on the path\"\n",
    "my_car=Car()\n",
    "my_bicycle=Bicycle()\n",
    "print(my_car.move())      \n",
    "print(my_bicycle.move()) "
   ]
  },
  {
   "cell_type": "code",
   "execution_count": 1,
   "id": "34805448",
   "metadata": {},
   "outputs": [
    {
     "name": "stdout",
     "output_type": "stream",
     "text": [
      "Bark!\n",
      "Meow!\n",
      "Moo!\n"
     ]
    }
   ],
   "source": [
    "#34) Can you provide an example of how abstraction can be utilized to create a common interface for a group of related classes in Python\n",
    "import abc\n",
    "class Animal:\n",
    "    @abc.abstractmethod\n",
    "    def make_sound(self):\n",
    "        pass\n",
    "class Dog(Animal):\n",
    "    def make_sound(self):\n",
    "        return \"Bark!\"\n",
    "class Cat(Animal):\n",
    "    def make_sound(self):\n",
    "        return \"Meow!\"\n",
    "class Cow(Animal):\n",
    "    def make_sound(self):\n",
    "        return \"Moo!\"\n",
    "def animal_sound(animal: Animal):\n",
    "    print(animal.make_sound())\n",
    "dog = Dog()\n",
    "cat = Cat()\n",
    "cow = Cow()\n",
    "animal_sound(dog)   \n",
    "animal_sound(cat)   \n",
    "animal_sound(cow)   \n",
    "\n"
   ]
  },
  {
   "cell_type": "code",
   "execution_count": null,
   "id": "3f954eec",
   "metadata": {},
   "outputs": [],
   "source": [
    "#35) How does Python achieve polymorphism through method overriding\n",
    "#Polymorphism in Python is achieved through method overriding, allowing different classes to have methods with the same name but with different behaviors.\n",
    "class Animal:\n",
    "    def sound(self):\n",
    "        print(\"animals sounds\")\n",
    "class Cat(Animal):\n",
    "    def sound(self):\n",
    "        print(\"Meowwww\")   \n",
    "cat=Cat()\n",
    "cat.sound() \n",
    "#here cat class overrides the Animal class,hence cat class  is returned .both classes had same method but their behviours are different ,hence polymorphism is achieved here."
   ]
  },
  {
   "cell_type": "code",
   "execution_count": null,
   "id": "568329d6",
   "metadata": {},
   "outputs": [],
   "source": [
    "#36) Define a base class with a method and a subclass that overrides the method\n",
    "class Vehicle:\n",
    "    def move(self):\n",
    "        print(\"The vehicle is moving\")\n",
    "class Car(Vehicle):\n",
    "    def move(self):\n",
    "        print(\"The car is driving on the road\")\n",
    "vehicle=Vehicle()\n",
    "car=Car()\n",
    "vehicle.move()  \n",
    "car.move()      \n"
   ]
  },
  {
   "cell_type": "code",
   "execution_count": null,
   "id": "2645d0ce",
   "metadata": {},
   "outputs": [],
   "source": [
    "#37) Define a base class and multiple subclasses with overridden methods\n",
    "class Person:\n",
    "    def introduce(self):\n",
    "        print(\"I am a person.\")\n",
    "class Student(Person):\n",
    "    def introduce(self):\n",
    "        print(\"I am a student.\")\n",
    "class Teacher(Person):\n",
    "    def introduce(self):\n",
    "        print(\"I am a teacher.\")\n",
    "person=Person()\n",
    "student=Student()\n",
    "teacher=Teacher()\n",
    "person.introduce()  \n",
    "student.introduce() \n",
    "teacher.introduce() \n"
   ]
  },
  {
   "cell_type": "code",
   "execution_count": 1,
   "id": "ba06f6ad",
   "metadata": {},
   "outputs": [
    {
     "name": "stdout",
     "output_type": "stream",
     "text": [
      "Meowwww\n"
     ]
    }
   ],
   "source": [
    "#38) How does polymorphism improve code readability and reusability\n",
    "#Code readability:Polymorphism makes it easier to maintain and update code over time.Developers can modify or extend existing code without affecting other parts of the system.\n",
    "#Code reusability:Polymorphism allows developers to create generic components that can work with objects of various types.This reduces redundancy and promotes cleaner,more maintainable code.\n",
    "class Animal:\n",
    "    def sound(self):\n",
    "        print(\"animals sounds\")\n",
    "class Cat(Animal):\n",
    "    def sound(self):\n",
    "        print(\"Meowwww\")   \n",
    "cat=Cat()\n",
    "cat.sound() \n",
    "#this class  is very much readable by anyone that it has two classes Animal and Cat ,both classes have same methods called but the behaviour is different, cat class overrides the animal class achieving polymorphism.\n",
    "#the methods are flexible and can be reused for different type animals and their sounds.\n"
   ]
  },
  {
   "cell_type": "code",
   "execution_count": null,
   "id": "1e2785cd",
   "metadata": {},
   "outputs": [
    {
     "name": "stdout",
     "output_type": "stream",
     "text": [
      "Area of Circle.\n",
      "Area of Square.\n"
     ]
    }
   ],
   "source": [
    "#39) Describe how Python supports polymorphism with duck typing\n",
    "#Python supports polymorphism through duck typing, which is a dynamic type-checking approach. The principle of duck typing is:\n",
    "#\"If it looks like a duck, swims like a duck, and quacks like a duck, then it probably is a duck.\"\n",
    "#In Python, this means that an object's suitability for an operation is determined by the presence of the required methods or attributes, rather than the object's actual type. Polymorphism allows objects of different types to be used interchangeably, as long as they implement the required behavior.\n",
    "class Circle:\n",
    "    def area(self):\n",
    "        return \"Area of Circle.\"\n",
    "class Square:\n",
    "    def area(self):\n",
    "        return \"Area of Square.\"\n",
    "def print_area(shape):\n",
    "    print(shape.area())\n",
    "circle=Circle()\n",
    "square=Square()\n",
    "print_area(circle)  \n",
    "print_area(square)  "
   ]
  },
  {
   "cell_type": "code",
   "execution_count": 3,
   "id": "a72cc3d8",
   "metadata": {},
   "outputs": [
    {
     "name": "stdout",
     "output_type": "stream",
     "text": [
      "Ani\n",
      "name: Ani\n",
      "course: Data Science\n",
      "Data Science\n",
      "ram\n",
      "web development\n"
     ]
    }
   ],
   "source": [
    "#40) How do you achieve encapsulation in Python\n",
    "#Encapsulation in Python is achieved by restricting access to certain attributes and methods of a class to prevent direct modification from outside the class. This is done by using private and protected access specifiers.\n",
    "class Student:\n",
    "    def __init__(self,name,course):\n",
    "        self.name=name\n",
    "        self.__course=course #private attribute\n",
    "    def show(self):\n",
    "        print(\"name:\",self.name)\n",
    "        print(\"course:\",self.__course)\n",
    "\n",
    "stud=Student(\"Ani\",\"Data Science\")\n",
    "print(stud.name)\n",
    "stud.show()\n",
    "print(stud._Student__course )\n",
    "class Student:\n",
    "    def __init__(self,name,course):\n",
    "        self.name=name\n",
    "        self._course=course #protected attribute\n",
    "def __init__(self,course):\n",
    "    Student.__init__(self)\n",
    "stud=Student(\"ram\",\"web development\")    \n",
    "print(stud.name )\n",
    "print(stud._course )  \n"
   ]
  },
  {
   "cell_type": "code",
   "execution_count": 4,
   "id": "190c0415",
   "metadata": {},
   "outputs": [
    {
     "name": "stdout",
     "output_type": "stream",
     "text": [
      "This is private\n",
      "This is a private method\n"
     ]
    }
   ],
   "source": [
    "#41)  Can encapsulation be bypassed in Python? If so, how\n",
    "#41) Yes, encapsulation in Python can be bypassed,Encapsulation is used to restrict access to certain methods and variables, usually by prefixing the variables or methods with a double underscore (__) or single underscore(_).\n",
    "class MyClass:\n",
    "    def __init__(self):\n",
    "        self.__private=\"This is private\"\n",
    "    \n",
    "    def __private_m(self):\n",
    "        return \"This is a private method\"\n",
    "obj = MyClass()\n",
    "# Bypass encapsulation\n",
    "print(obj._MyClass__private)\n",
    "print(obj._MyClass__private_m())\n",
    "\n",
    "\n"
   ]
  },
  {
   "cell_type": "code",
   "execution_count": null,
   "id": "418abc5f",
   "metadata": {},
   "outputs": [
    {
     "name": "stdout",
     "output_type": "stream",
     "text": [
      "10000\n",
      "15000\n",
      "True\n",
      "4500\n"
     ]
    }
   ],
   "source": [
    "#42) implement a class BankAccount with a private balance attribute. Include methods to deposit, withdraw, and check the balance\n",
    "class BankAccount:\n",
    "    \n",
    "    def __init__(self, balance):\n",
    "        self.__balance=balance\n",
    "    def deposit(self, amount):\n",
    "        self.__balance=self.__balance+amount\n",
    "    def withdraw(self, amount):\n",
    "        if self.__balance>=amount:\n",
    "            self.__balance = self.__balance-amount\n",
    "            return True\n",
    "        else:\n",
    "            return False\n",
    "    def get_balance(self):\n",
    "        return self.__balance\n",
    "acc=BankAccount(10000)\n",
    "print(acc.get_balance()) \n",
    "acc.deposit(5000)\n",
    "print(acc.get_balance())\n",
    "print(acc.withdraw(10500))\n",
    "print(acc.get_balance())"
   ]
  },
  {
   "cell_type": "code",
   "execution_count": 17,
   "id": "30d38c62",
   "metadata": {},
   "outputs": [
    {
     "name": "stdout",
     "output_type": "stream",
     "text": [
      "sri_950@gmail.com\n",
      "sri_956@gmail.com\n"
     ]
    }
   ],
   "source": [
    "#43)  Develop a Person class with private attributes name and email, and methods to set and get the email\n",
    "\n",
    "class Person:\n",
    "    def __init__(self, name, email):\n",
    "        self.__name=name\n",
    "        self.__email=email\n",
    "    def set_email(self, email):\n",
    "        self.__email=email\n",
    "    def get_email(self):\n",
    "        return self.__email\n",
    "person=Person(\"sri\", \"sri_950@gmail.com\")\n",
    "print(person.get_email()) \n",
    "person.set_email(\"sri_956@gmail.com\")\n",
    "print(person.get_email()) \n"
   ]
  },
  {
   "cell_type": "code",
   "execution_count": 19,
   "id": "b2fce656",
   "metadata": {},
   "outputs": [
    {
     "name": "stdout",
     "output_type": "stream",
     "text": [
      "ujj_950@gmail.com\n",
      "ujj_956@gmail.com\n"
     ]
    }
   ],
   "source": [
    "#44) Why is encapsulation considered a pillar of object-oriented programming (OOP)?\n",
    "#Encapsulation is considered a pillar of object-oriented programming (OOP) because it helps protect and organize code. It bundles the data (variables) and the methods (functions) that operate on that data into a single unit, typically a class. This ensures that:\n",
    "#1) Control access: You can restrict access to parts of the code (private variables),so only specific methods can change or view the data.\n",
    "#2)easy usage: Hides complex implementation details and shows only the necessary functionality to users.\n",
    "#foe ex:Think of it like a TV remote—you can use it to change channels without knowing how the remote works internally.\n",
    "class Person:\n",
    "    def __init__(self, name, email):\n",
    "        self.__name=name\n",
    "        self.__email=email\n",
    "    def set_email(self, email):\n",
    "        self.__email=email\n",
    "    def get_email(self):\n",
    "        return self.__email\n",
    "person=Person(\"ujay\", \"ujj_950@gmail.com\")\n",
    "print(person.get_email()) \n",
    "person.set_email(\"ujj_956@gmail.com\")\n",
    "print(person.get_email())"
   ]
  },
  {
   "cell_type": "code",
   "execution_count": 21,
   "id": "252d8e68",
   "metadata": {},
   "outputs": [
    {
     "name": "stdout",
     "output_type": "stream",
     "text": [
      "The lines being printed before the func.\n",
      "hi\n",
      "The lines being printed after the func.\n",
      "The lines being printed before the func.\n",
      "hello\n",
      "The lines being printed after the func.\n"
     ]
    }
   ],
   "source": [
    "#45) Create a decorator in Python that adds functionality to a simple function by printing a message before and after the function execution\n",
    "# 1)method decorator\n",
    "def my_decorator(func): #decorator func that takes another function as arguement\n",
    "    def wrapper(): #adds the functionality before and after calling func\n",
    "        print(\"The lines being printed before the func.\")\n",
    "        func()\n",
    "        print(\"The lines being printed after the func.\") \n",
    "    return wrapper\n",
    "@my_decorator\n",
    "def simple_hi():\n",
    "    print(\"hi\")\n",
    "simple_hi()\n",
    "# 2)class decorator\n",
    "class My_Decorator:\n",
    "    def __init__(self,func):\n",
    "        self.func=func\n",
    "    def __call__(self):\n",
    "        print(\"The lines being printed before the func.\")\n",
    "        self.func()\n",
    "        print(\"The lines being printed after the func.\") \n",
    "@My_Decorator #__call__ is a special method which is invoked when you call a decorator class instance\n",
    "def say_hello():\n",
    "    print(\"hello\")   \n",
    "say_hello()"
   ]
  },
  {
   "cell_type": "code",
   "execution_count": 28,
   "id": "e95d907f",
   "metadata": {},
   "outputs": [
    {
     "name": "stdout",
     "output_type": "stream",
     "text": [
      "itz Running~Function:say_hello\n",
      "Hey!\n"
     ]
    }
   ],
   "source": [
    "#46)  Modify the decorator to accept arguments and print the function name along with the message\n",
    "def My_Decorator(message):\n",
    "    def decorator(func):\n",
    "        def wrapper():\n",
    "            print(f\"{message}~Function:{func.__name__}\")\n",
    "            return func()\n",
    "        return wrapper\n",
    "    return decorator\n",
    "@My_Decorator(\"itz Running\")\n",
    "def say_hello():\n",
    "    print(\"Hey!\")\n",
    "say_hello()\n"
   ]
  },
  {
   "cell_type": "code",
   "execution_count": 30,
   "id": "6606cad4",
   "metadata": {},
   "outputs": [
    {
     "name": "stdout",
     "output_type": "stream",
     "text": [
      "first decorator\n",
      "second decorator\n",
      "these are the decorators\n"
     ]
    }
   ],
   "source": [
    "#47)  Create two decorators, and apply them to a single function. Ensure that they execute in the order they are applied\n",
    "def my_decorator1(func): \n",
    "    def wrapper(): \n",
    "      print(\"first decorator\") \n",
    "      return func()\n",
    "    return wrapper\n",
    "def my_decorator2(func):\n",
    "   def wrapper1():\n",
    "      print(\"second decorator\")\n",
    "      return func()\n",
    "   return wrapper1\n",
    "@my_decorator1 \n",
    "@my_decorator2\n",
    "def decorators():\n",
    "   print(\"these are the decorators\")\n",
    "decorators()   \n"
   ]
  },
  {
   "cell_type": "code",
   "execution_count": null,
   "id": "2a731795",
   "metadata": {},
   "outputs": [
    {
     "name": "stdout",
     "output_type": "stream",
     "text": [
      "Before function call\n",
      "After function call\n",
      "7\n"
     ]
    }
   ],
   "source": [
    "#48)  Modify the decorator to accept and pass function arguments to the wrapped function\n",
    "def my_decorator(func):\n",
    "    def wrapper(x,y):\n",
    "        print(\"Before function call\")\n",
    "        result=func(x,y)\n",
    "        print(\"After function call\")\n",
    "        return result\n",
    "    return wrapper\n",
    "@my_decorator\n",
    "def my_function(x,y):\n",
    "    return x+y\n",
    "result=my_function(3, 4)\n",
    "print(result)"
   ]
  },
  {
   "cell_type": "code",
   "execution_count": null,
   "id": "f53bae94",
   "metadata": {},
   "outputs": [
    {
     "name": "stdout",
     "output_type": "stream",
     "text": [
      "Before function call\n",
      "Inside my_function\n",
      "After function call\n"
     ]
    }
   ],
   "source": [
    "#49)  Create a decorator that preserves the metadata of the original function\n",
    "def my_decorator(func):\n",
    "    def wrapper():\n",
    "        print(\"Before function call\")\n",
    "        result=func()\n",
    "        print(\"After function call\")\n",
    "        return result\n",
    "    return wrapper\n",
    "@my_decorator\n",
    "def my_function():\n",
    "    print(\"Inside my_function\")\n",
    "my_function()"
   ]
  },
  {
   "cell_type": "code",
   "execution_count": 2,
   "id": "7e8b375a",
   "metadata": {},
   "outputs": [
    {
     "data": {
      "text/plain": [
       "11"
      ]
     },
     "execution_count": 2,
     "metadata": {},
     "output_type": "execute_result"
    }
   ],
   "source": [
    "#50)  Create a Python class `Calculator` with a static method `add` that takes in two numbers and returns their sum\n",
    "class Calculator:\n",
    "    @staticmethod\n",
    "    def add(x,y):\n",
    "        return x+y\n",
    "Calculator.add(5,6)    \n",
    "    \n",
    "    "
   ]
  },
  {
   "cell_type": "code",
   "execution_count": 8,
   "id": "648c9b54",
   "metadata": {},
   "outputs": [
    {
     "data": {
      "text/plain": [
       "3"
      ]
     },
     "execution_count": 8,
     "metadata": {},
     "output_type": "execute_result"
    }
   ],
   "source": [
    "#51)  Create a Python class `Employee` with a class `method get_employee_count` that returns the total number of employees created\n",
    "class Employee:\n",
    "    employee_count=0\n",
    "    def __init__(self,name):\n",
    "        self.name=name\n",
    "        Employee.employee_count=Employee.employee_count+1\n",
    "    @classmethod\n",
    "    def get_employee_count(cls):\n",
    "        return cls.employee_count\n",
    "emp1=Employee(\"shan\")\n",
    "emp2=Employee(\"Allice\") \n",
    "emp3=Employee(\"brank\")\n",
    "Employee.get_employee_count() \n",
    "\n"
   ]
  },
  {
   "cell_type": "code",
   "execution_count": 10,
   "id": "44c181ca",
   "metadata": {},
   "outputs": [
    {
     "data": {
      "text/plain": [
       "'dlrow olleh'"
      ]
     },
     "execution_count": 10,
     "metadata": {},
     "output_type": "execute_result"
    }
   ],
   "source": [
    "#52)  Create a Python class `StringFormatter` with a static method `reverse_string` that takes a string as input and returns its reverse\n",
    "class StringFormatter:\n",
    "    @staticmethod\n",
    "    def rev_string(str):\n",
    "        return str[::-1]\n",
    "StringFormatter.rev_string(\"hello world\")    "
   ]
  },
  {
   "cell_type": "code",
   "execution_count": 15,
   "id": "4d0bca87",
   "metadata": {},
   "outputs": [
    {
     "data": {
      "text/plain": [
       "78.5"
      ]
     },
     "execution_count": 15,
     "metadata": {},
     "output_type": "execute_result"
    }
   ],
   "source": [
    "#53) Create a Python class `Circle` with a class method `calculate_area` that calculates the area of a circle given its radius\n",
    "class Circle:\n",
    "    @classmethod\n",
    "    def calculate_area(cls,r):\n",
    "        return  3.14 * r * r\n",
    "Circle.calculate_area(5)    "
   ]
  },
  {
   "cell_type": "code",
   "execution_count": 26,
   "id": "adb31396",
   "metadata": {},
   "outputs": [
    {
     "name": "stdout",
     "output_type": "stream",
     "text": [
      "77.0 F\n"
     ]
    }
   ],
   "source": [
    "#54) Create a Python class `TemperatureConverter` with a static method `celsius_to_fahrenheit` that converts Celsius to Fahrenheit\n",
    "class TemperatureConverter:\n",
    "    @staticmethod\n",
    "    def celsius_to_fahrenheit(c):\n",
    "         print(f\"{(c*9/5)+32} F\")\n",
    "TemperatureConverter.celsius_to_fahrenheit(25)    \n"
   ]
  },
  {
   "cell_type": "code",
   "execution_count": 7,
   "id": "5702eeec",
   "metadata": {},
   "outputs": [
    {
     "name": "stdout",
     "output_type": "stream",
     "text": [
      "<__main__.Student object at 0x000001A9D23102F0>\n",
      "this method overrides the print statement of object method\n"
     ]
    }
   ],
   "source": [
    "#55)  What is the purpose of the __str__() method in Python classes? Provide an example\n",
    "#The __str__() method in Python is a special method that returns a string representation of an object. It's meant to be readable and understandable by humans, making it useful for printing and logging purposes. When you use the print() function or str() function on an instance of a class, the __str__() method is called.\n",
    "class Student:\n",
    "    def __init__(self):\n",
    "        self.phone=99999999\n",
    "print(Student()) \n",
    "#if i want to make it readable i can use this and provide text there\n",
    "class Student:\n",
    "    def __init__(self):\n",
    "        self.phone=99999999\n",
    "    def __str__(self):\n",
    "       return\"this method overrides the print statement of object method\"  \n",
    "print(Student())  "
   ]
  },
  {
   "cell_type": "code",
   "execution_count": 29,
   "id": "b00ab682",
   "metadata": {},
   "outputs": [
    {
     "data": {
      "text/plain": [
       "8"
      ]
     },
     "execution_count": 29,
     "metadata": {},
     "output_type": "execute_result"
    }
   ],
   "source": [
    "#56) How does the __len__() method work in Python? Provide an example\n",
    "\"\"\"the __len__() is a special or magic method in python ,which is commonly called as dunder method.it is used to define the behaviour of the len function for object of a class ,basically it determines the length.\"\"\"\n",
    "class My_list:\n",
    "    def __init__(self,items):\n",
    "        self.items=items\n",
    "    def  __len__(self):\n",
    "        return len(self.items)   \n",
    "input_list=My_list([12,45,78,89,90,100,30,10])\n",
    "input_list.items \n",
    "input_list.__len__()   \n"
   ]
  },
  {
   "cell_type": "code",
   "execution_count": null,
   "id": "6f14d2b5",
   "metadata": {},
   "outputs": [
    {
     "name": "stdout",
     "output_type": "stream",
     "text": [
      "11\n",
      "13\n"
     ]
    }
   ],
   "source": [
    "#57) Explain the usage of the __add__() method in Python classes. Provide an example\n",
    "#the __add__() is a special or magic method in python ,which is commonly called as dunder method.it is used to define the behaviour of the + operator for object of a class,basically it performs addition on given numbers\n",
    "class Add:\n",
    "    def __init__(self,x,y):\n",
    "        self.x=x\n",
    "        self.y=y\n",
    "    def __add__(self):\n",
    "        return self.x+self.y\n",
    "a=Add(5,6)\n",
    "print(a.__add__())\n",
    "#or\n",
    "x=6\n",
    "y=7\n",
    "print(x.__add__(y))"
   ]
  },
  {
   "cell_type": "code",
   "execution_count": 10,
   "id": "f17fe7d7",
   "metadata": {},
   "outputs": [
    {
     "name": "stdout",
     "output_type": "stream",
     "text": [
      "3\n",
      "1\n"
     ]
    }
   ],
   "source": [
    "#58) What is the purpose of the __getitem__() method in Python? Provide an example\n",
    "\n",
    "class CustomList:\n",
    "    def __init__(self,items):\n",
    "        self.items=items\n",
    "    def __getitem__(self,index):\n",
    "        return self.items[index]\n",
    "input_list = CustomList([1, 2, 3, 4, 5])\n",
    "print(input_list[2])  \n",
    "print(input_list[0]) \n"
   ]
  },
  {
   "cell_type": "code",
   "execution_count": null,
   "id": "3c9c9ac8",
   "metadata": {},
   "outputs": [
    {
     "name": "stdout",
     "output_type": "stream",
     "text": [
      "1\n",
      "2\n"
     ]
    }
   ],
   "source": [
    "#59) Explain the usage of the __iter__() and __next__() methods in Python. Provide an example using iterators\n",
    "\"\"\"__iter__(): This method is called to initialize the iterator. It should return the iterator object itself. This method is necessary to make an object iterable.\n",
    "__next__(): This method is used to fetch the next item from the iterator. It should raise a StopIteration exception when there are no more items to return, signaling the end of the iteration.\"\"\"\n",
    "class SimpleIterator:\n",
    "    def __init__(self):\n",
    "        self.values=[1, 2]\n",
    "        self.index=0\n",
    "    def __iter__(self):\n",
    "        return self\n",
    "    def __next__(self):\n",
    "        number = self.values[self.index]\n",
    "        self.index+=1\n",
    "        return number\n",
    "it=SimpleIterator()\n",
    "print(next(it)) \n",
    "print(next(it))  \n",
    "\n",
    "\n",
    "\n"
   ]
  },
  {
   "cell_type": "code",
   "execution_count": null,
   "id": "01f61512",
   "metadata": {},
   "outputs": [
    {
     "name": "stdout",
     "output_type": "stream",
     "text": [
      "Name: Ali\n",
      "Age: 30\n"
     ]
    }
   ],
   "source": [
    "#60)  What is the purpose of a getter method in Python? Provide an example demonstrating the use of a getter method using property decorators\n",
    "#A getter method is a function that retrieves the value of an attribute in an object. It's like a safe way to look at the value of something inside your object without changing it.\n",
    "class Person:\n",
    "    def __init__(self,name,age):\n",
    "        self.__name=name  # Private attribute\n",
    "        self.__age=age    # Private attribute\n",
    "    # getter \n",
    "    @property\n",
    "    def name(self):\n",
    "        return self.__name \n",
    "    @property\n",
    "    def age(self):\n",
    "        return self.__age\n",
    "person=Person(\"Ali\", 30)\n",
    "print(f\"Name: {person.name}\")  \n",
    "print(f\"Age: {person.age}\")    \n"
   ]
  },
  {
   "cell_type": "code",
   "execution_count": null,
   "id": "8f27cd12",
   "metadata": {},
   "outputs": [
    {
     "name": "stdout",
     "output_type": "stream",
     "text": [
      "area:314.0\n",
      "area:706.5\n"
     ]
    }
   ],
   "source": [
    "#61)  Explain the role of setter methods in Python. Demonstrate how to use a setter method to modify a class attribute using property decorators\n",
    "\n",
    "#A setter method is a function that updates the value of an attribute in an object. It allows you to control how the attribute is changed, which helps to keep the data safe and valid.\n",
    "class Circle:\n",
    "    def __init__(self,radius):\n",
    "        self.__radius=radius\n",
    "    @property\n",
    "    def access_radius(self):\n",
    "        return self.__radius\n",
    "    @property\n",
    "    def area(self):\n",
    "        radius=self.__radius\n",
    "        return 3.14*radius**2\n",
    "    #setting the radius\n",
    "    @access_radius.setter\n",
    "    def radius_set(self,new_radius):\n",
    "        self.__radius=new_radius\n",
    "c=Circle(10)\n",
    "print(f\"area:{c.area}\")\n",
    "c.radius_set=15\n",
    "#after setting\n",
    "print(f\"area:{c.area}\")        \n"
   ]
  },
  {
   "cell_type": "code",
   "execution_count": 21,
   "id": "a194b659",
   "metadata": {},
   "outputs": [
    {
     "data": {
      "text/plain": [
       "78.5"
      ]
     },
     "execution_count": 21,
     "metadata": {},
     "output_type": "execute_result"
    }
   ],
   "source": [
    "#61)  What is the purpose of the @property decorator in Python? Provide an example illustrating its usage\n",
    "#property decorator-->allow methods to be accesed as an attribute and no need of paranthesis\n",
    "class Circle:\n",
    "    def __init__(self,radius):\n",
    "        self.radius=radius\n",
    "    @property\n",
    "    def area(self):\n",
    "        radius=self.radius\n",
    "        return 3.14*radius**2\n",
    "c=Circle(5)\n",
    "c.radius \n",
    "c.area    # as i am using radius as an attribute likewise i can use area(method) also as a attribute instead of calling like a function using property decorator"
   ]
  },
  {
   "cell_type": "code",
   "execution_count": 19,
   "id": "9c8b9eac",
   "metadata": {},
   "outputs": [
    {
     "name": "stdout",
     "output_type": "stream",
     "text": [
      "1200\n",
      "1000\n",
      "Deleting the  price\n",
      "0\n"
     ]
    }
   ],
   "source": [
    "#62) Explain the use of the @deleter decorator in Python property decorators. Provide a code example demonstrating its application\n",
    "##62) The @deleter decorator in Python is part of the property decorator suite, which allows you to  delete a property value. The @deleter decorator allows you to specify a method that will be called when you delete a property using the del statement.\n",
    "class Product:\n",
    "    def __init__(self, name, price):\n",
    "        self.__name = name\n",
    "        self.__price = price\n",
    "    @property\n",
    "    def price(self):\n",
    "        return self.__price\n",
    "    @price.setter\n",
    "    def price(self, price):\n",
    "        self.__price = price\n",
    "    @price.deleter\n",
    "    def price(self):\n",
    "        print(\"Deleting the  price\")\n",
    "        self.__price=0\n",
    "product = Product(\"Laptop\", 1200)\n",
    "print(product.price) \n",
    "product.price = 1000\n",
    "print(product.price)  \n",
    "del product.price\n",
    "print(product.price) \n",
    "\n",
    "\n",
    "\n",
    "\n",
    "       \n",
    "  "
   ]
  },
  {
   "cell_type": "code",
   "execution_count": null,
   "id": "14fbe22f",
   "metadata": {},
   "outputs": [
    {
     "name": "stdout",
     "output_type": "stream",
     "text": [
      "1000\n",
      "1500\n",
      "Balance can't be less than zero\n",
      "Deleting balance\n",
      "None\n"
     ]
    }
   ],
   "source": [
    "#63)  How does encapsulation relate to property decorators in Python? Provide an example showcasing encapsulation using property decorators.\n",
    "#property decorators (@property, @property.setter, & @property.deleter) provide a way to implement encapsulation. They allow you to define methods for getting, setting, and deleting an attribute while keeping the attribute itself private.\n",
    "class BankAccount:\n",
    "    def __init__(self,balance):\n",
    "        self.__balance=balance\n",
    "    # getter \n",
    "    @property\n",
    "    def balance(self):\n",
    "        return self.__balance\n",
    "    # setter \n",
    "    @balance.setter\n",
    "    def balance(self,amount):\n",
    "        if amount>=0:\n",
    "            self.__balance=amount\n",
    "        else:\n",
    "            print(\"Balance can't be less than zero\")\n",
    "    # deleter \n",
    "    @balance.deleter\n",
    "    def balance(self):\n",
    "        print(\"Deleting balance\")\n",
    "        self.__balance=None\n",
    "account=BankAccount(1000)\n",
    "print(account.balance)  \n",
    "account.balance=1500\n",
    "print(account.balance) \n",
    "account.balance=-50\n",
    "del account.balance\n",
    "print(account.balance)  \n"
   ]
  }
 ],
 "metadata": {
  "kernelspec": {
   "display_name": "Python 3",
   "language": "python",
   "name": "python3"
  },
  "language_info": {
   "codemirror_mode": {
    "name": "ipython",
    "version": 3
   },
   "file_extension": ".py",
   "mimetype": "text/x-python",
   "name": "python",
   "nbconvert_exporter": "python",
   "pygments_lexer": "ipython3",
   "version": "3.13.0"
  }
 },
 "nbformat": 4,
 "nbformat_minor": 5
}
